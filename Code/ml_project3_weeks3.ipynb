{
 "cells": [
  {
   "cell_type": "code",
   "execution_count": 9,
   "metadata": {},
   "outputs": [],
   "source": [
    "import pandas as pd\n",
    "import numpy as np\n",
    "from sklearn.preprocessing import normalize\n",
    "from sklearn.model_selection import train_test_split \n",
    "from sklearn.ensemble import RandomForestRegressor\n",
    "import sklearn.linear_model as linear_model\n",
    "from sklearn.svm import SVR\n",
    "from sklearn.model_selection import cross_val_score \n",
    "from sklearn.model_selection import RepeatedKFold\n",
    "from sklearn.metrics import mean_squared_error\n",
    "from sklearn.linear_model import LinearRegression\n",
    "import matplotlib.pyplot as plt \n",
    "from xgboost import XGBRegressor\n",
    "from sklearn.dummy import DummyRegressor"
   ]
  },
  {
   "cell_type": "code",
   "execution_count": 3,
   "metadata": {},
   "outputs": [],
   "source": [
    "\n",
    "df = pd.read_csv (r'C:\\Restricted\\study\\DataScience\\TCD\\MachineLearning\\Week5Assignment\\timeseries\\timeseries_data.csv')\n",
    "df= df.iloc[:,1:15] #17\n",
    "df.dropna(inplace=True)\n",
    "df.drop(columns='date',inplace=True)\n",
    "indices_list = df.index.values"
   ]
  },
  {
   "cell_type": "code",
   "execution_count": 4,
   "metadata": {},
   "outputs": [
    {
     "data": {
      "text/plain": [
       "3        30.000000\n",
       "4        40.000000\n",
       "5        28.000000\n",
       "12       34.000000\n",
       "13       19.000000\n",
       "           ...    \n",
       "24129     0.000000\n",
       "24130    25.000000\n",
       "24131    10.333333\n",
       "24132     7.250000\n",
       "24133    12.416667\n",
       "Name: USAGE, Length: 16601, dtype: float64"
      ]
     },
     "execution_count": 4,
     "metadata": {},
     "output_type": "execute_result"
    }
   ],
   "source": [
    "y=df.loc[:, 'USAGE'] \n",
    "y\n",
    "#print(df.iloc[:,4:10].head())"
   ]
  },
  {
   "cell_type": "code",
   "execution_count": 5,
   "metadata": {},
   "outputs": [
    {
     "name": "stdout",
     "output_type": "stream",
     "text": [
      "[[0.775      0.975      0.375     ]\n",
      " [0.75       0.775      0.975     ]\n",
      " [1.         0.75       0.775     ]\n",
      " ...\n",
      " [0.625      0.         0.325     ]\n",
      " [0.25833333 0.625      0.        ]\n",
      " [0.18125    0.25833333 0.625     ]]\n"
     ]
    }
   ],
   "source": [
    "\n",
    "X_to_normalize_1=df.iloc[:,1:4]\n",
    "X_to_normalize_2=df.iloc[:,10:13]\n",
    "\n",
    "X_normalized_1 = normalize(X_to_normalize_1,norm='max', axis=0)\n",
    "X_normalized_2 = normalize(X_to_normalize_2,norm='max', axis=0)\n",
    "X_normalized_1df= pd.DataFrame(X_normalized_1,index= indices_list)\n",
    "X_normalized_2df= pd.DataFrame(X_normalized_2,index= indices_list)\n",
    "\n",
    "print(X_normalized_2)"
   ]
  },
  {
   "cell_type": "code",
   "execution_count": 6,
   "metadata": {},
   "outputs": [
    {
     "data": {
      "text/html": [
       "<div>\n",
       "<style scoped>\n",
       "    .dataframe tbody tr th:only-of-type {\n",
       "        vertical-align: middle;\n",
       "    }\n",
       "\n",
       "    .dataframe tbody tr th {\n",
       "        vertical-align: top;\n",
       "    }\n",
       "\n",
       "    .dataframe thead th {\n",
       "        text-align: right;\n",
       "    }\n",
       "</style>\n",
       "<table border=\"1\" class=\"dataframe\">\n",
       "  <thead>\n",
       "    <tr style=\"text-align: right;\">\n",
       "      <th></th>\n",
       "      <th>rain</th>\n",
       "      <th>temp</th>\n",
       "      <th>wdsp</th>\n",
       "      <th>STATION_68.0</th>\n",
       "      <th>STATION_78.0</th>\n",
       "      <th>STATION_83.0</th>\n",
       "      <th>STATION_85.0</th>\n",
       "      <th>STATION_88.0</th>\n",
       "      <th>STATION_97.0</th>\n",
       "      <th>W1</th>\n",
       "      <th>W2</th>\n",
       "      <th>W3</th>\n",
       "    </tr>\n",
       "  </thead>\n",
       "  <tbody>\n",
       "    <tr>\n",
       "      <th>3</th>\n",
       "      <td>1</td>\n",
       "      <td>0</td>\n",
       "      <td>0</td>\n",
       "      <td>0</td>\n",
       "      <td>0</td>\n",
       "      <td>0</td>\n",
       "      <td>0.0</td>\n",
       "      <td>0.017316</td>\n",
       "      <td>0.333333</td>\n",
       "      <td>0.775000</td>\n",
       "      <td>0.975000</td>\n",
       "      <td>0.37500</td>\n",
       "    </tr>\n",
       "    <tr>\n",
       "      <th>4</th>\n",
       "      <td>1</td>\n",
       "      <td>0</td>\n",
       "      <td>0</td>\n",
       "      <td>0</td>\n",
       "      <td>0</td>\n",
       "      <td>0</td>\n",
       "      <td>0.0</td>\n",
       "      <td>0.333333</td>\n",
       "      <td>0.259259</td>\n",
       "      <td>0.750000</td>\n",
       "      <td>0.775000</td>\n",
       "      <td>0.97500</td>\n",
       "    </tr>\n",
       "    <tr>\n",
       "      <th>5</th>\n",
       "      <td>1</td>\n",
       "      <td>0</td>\n",
       "      <td>0</td>\n",
       "      <td>0</td>\n",
       "      <td>0</td>\n",
       "      <td>0</td>\n",
       "      <td>0.0</td>\n",
       "      <td>0.303030</td>\n",
       "      <td>0.222222</td>\n",
       "      <td>1.000000</td>\n",
       "      <td>0.750000</td>\n",
       "      <td>0.77500</td>\n",
       "    </tr>\n",
       "    <tr>\n",
       "      <th>12</th>\n",
       "      <td>1</td>\n",
       "      <td>0</td>\n",
       "      <td>0</td>\n",
       "      <td>0</td>\n",
       "      <td>0</td>\n",
       "      <td>0</td>\n",
       "      <td>0.0</td>\n",
       "      <td>0.575758</td>\n",
       "      <td>0.185185</td>\n",
       "      <td>0.600000</td>\n",
       "      <td>0.881250</td>\n",
       "      <td>0.45000</td>\n",
       "    </tr>\n",
       "    <tr>\n",
       "      <th>13</th>\n",
       "      <td>1</td>\n",
       "      <td>0</td>\n",
       "      <td>0</td>\n",
       "      <td>0</td>\n",
       "      <td>0</td>\n",
       "      <td>0</td>\n",
       "      <td>0.0</td>\n",
       "      <td>0.017316</td>\n",
       "      <td>0.111111</td>\n",
       "      <td>0.850000</td>\n",
       "      <td>0.600000</td>\n",
       "      <td>0.88125</td>\n",
       "    </tr>\n",
       "    <tr>\n",
       "      <th>...</th>\n",
       "      <td>...</td>\n",
       "      <td>...</td>\n",
       "      <td>...</td>\n",
       "      <td>...</td>\n",
       "      <td>...</td>\n",
       "      <td>...</td>\n",
       "      <td>...</td>\n",
       "      <td>...</td>\n",
       "      <td>...</td>\n",
       "      <td>...</td>\n",
       "      <td>...</td>\n",
       "      <td>...</td>\n",
       "    </tr>\n",
       "    <tr>\n",
       "      <th>24129</th>\n",
       "      <td>0</td>\n",
       "      <td>0</td>\n",
       "      <td>0</td>\n",
       "      <td>0</td>\n",
       "      <td>0</td>\n",
       "      <td>1</td>\n",
       "      <td>0.0</td>\n",
       "      <td>0.017316</td>\n",
       "      <td>0.111111</td>\n",
       "      <td>0.325000</td>\n",
       "      <td>0.300000</td>\n",
       "      <td>0.17500</td>\n",
       "    </tr>\n",
       "    <tr>\n",
       "      <th>24130</th>\n",
       "      <td>0</td>\n",
       "      <td>0</td>\n",
       "      <td>0</td>\n",
       "      <td>0</td>\n",
       "      <td>0</td>\n",
       "      <td>1</td>\n",
       "      <td>0.0</td>\n",
       "      <td>0.714286</td>\n",
       "      <td>0.407407</td>\n",
       "      <td>0.000000</td>\n",
       "      <td>0.325000</td>\n",
       "      <td>0.30000</td>\n",
       "    </tr>\n",
       "    <tr>\n",
       "      <th>24131</th>\n",
       "      <td>0</td>\n",
       "      <td>0</td>\n",
       "      <td>0</td>\n",
       "      <td>0</td>\n",
       "      <td>0</td>\n",
       "      <td>1</td>\n",
       "      <td>0.0</td>\n",
       "      <td>0.458874</td>\n",
       "      <td>0.296296</td>\n",
       "      <td>0.625000</td>\n",
       "      <td>0.000000</td>\n",
       "      <td>0.32500</td>\n",
       "    </tr>\n",
       "    <tr>\n",
       "      <th>24132</th>\n",
       "      <td>0</td>\n",
       "      <td>0</td>\n",
       "      <td>0</td>\n",
       "      <td>0</td>\n",
       "      <td>0</td>\n",
       "      <td>1</td>\n",
       "      <td>0.0</td>\n",
       "      <td>0.493506</td>\n",
       "      <td>0.555556</td>\n",
       "      <td>0.258333</td>\n",
       "      <td>0.625000</td>\n",
       "      <td>0.00000</td>\n",
       "    </tr>\n",
       "    <tr>\n",
       "      <th>24133</th>\n",
       "      <td>0</td>\n",
       "      <td>0</td>\n",
       "      <td>0</td>\n",
       "      <td>0</td>\n",
       "      <td>0</td>\n",
       "      <td>1</td>\n",
       "      <td>0.0</td>\n",
       "      <td>-0.004329</td>\n",
       "      <td>0.333333</td>\n",
       "      <td>0.181250</td>\n",
       "      <td>0.258333</td>\n",
       "      <td>0.62500</td>\n",
       "    </tr>\n",
       "  </tbody>\n",
       "</table>\n",
       "<p>16601 rows × 12 columns</p>\n",
       "</div>"
      ],
      "text/plain": [
       "       rain  temp  wdsp  STATION_68.0  STATION_78.0  STATION_83.0  \\\n",
       "3         1     0     0             0             0             0   \n",
       "4         1     0     0             0             0             0   \n",
       "5         1     0     0             0             0             0   \n",
       "12        1     0     0             0             0             0   \n",
       "13        1     0     0             0             0             0   \n",
       "...     ...   ...   ...           ...           ...           ...   \n",
       "24129     0     0     0             0             0             1   \n",
       "24130     0     0     0             0             0             1   \n",
       "24131     0     0     0             0             0             1   \n",
       "24132     0     0     0             0             0             1   \n",
       "24133     0     0     0             0             0             1   \n",
       "\n",
       "       STATION_85.0  STATION_88.0  STATION_97.0        W1        W2       W3  \n",
       "3               0.0      0.017316      0.333333  0.775000  0.975000  0.37500  \n",
       "4               0.0      0.333333      0.259259  0.750000  0.775000  0.97500  \n",
       "5               0.0      0.303030      0.222222  1.000000  0.750000  0.77500  \n",
       "12              0.0      0.575758      0.185185  0.600000  0.881250  0.45000  \n",
       "13              0.0      0.017316      0.111111  0.850000  0.600000  0.88125  \n",
       "...             ...           ...           ...       ...       ...      ...  \n",
       "24129           0.0      0.017316      0.111111  0.325000  0.300000  0.17500  \n",
       "24130           0.0      0.714286      0.407407  0.000000  0.325000  0.30000  \n",
       "24131           0.0      0.458874      0.296296  0.625000  0.000000  0.32500  \n",
       "24132           0.0      0.493506      0.555556  0.258333  0.625000  0.00000  \n",
       "24133           0.0     -0.004329      0.333333  0.181250  0.258333  0.62500  \n",
       "\n",
       "[16601 rows x 12 columns]"
      ]
     },
     "execution_count": 6,
     "metadata": {},
     "output_type": "execute_result"
    }
   ],
   "source": [
    "X_rest=df.iloc[:,4:10]\n",
    "X = pd.concat([X_rest, X_normalized_1df, X_normalized_2df], axis=1,join='inner')\n",
    "X.columns = [ 'rain', 'temp', 'wdsp', 'STATION_68.0', 'STATION_78.0',\n",
    "       'STATION_83.0', 'STATION_85.0', 'STATION_88.0', 'STATION_97.0', 'W1',\n",
    "       'W2', 'W3']\n",
    "X"
   ]
  },
  {
   "cell_type": "code",
   "execution_count": 7,
   "metadata": {},
   "outputs": [],
   "source": [
    "\n",
    "X_train, X_test, y_train, y_test = train_test_split( X, y, test_size=0.10, random_state=42)\n"
   ]
  },
  {
   "cell_type": "code",
   "execution_count": 10,
   "metadata": {},
   "outputs": [
    {
     "name": "stdout",
     "output_type": "stream",
     "text": [
      "Mean squared error of baseline model 63.562655\n"
     ]
    }
   ],
   "source": [
    "baseline_model = DummyRegressor(strategy='mean').fit(X, y)\n",
    "y_baseline = baseline_model.predict(X)\n",
    "\n",
    "print(\"Mean squared error of baseline model %f\"%(mean_squared_error(y,y_baseline)))"
   ]
  },
  {
   "cell_type": "code",
   "execution_count": 11,
   "metadata": {
    "scrolled": true
   },
   "outputs": [
    {
     "name": "stdout",
     "output_type": "stream",
     "text": [
      "Mean squared error of test data 47.342989\n",
      "Mean squared error of train data 48.396675\n",
      "Cross Validation Scores Mean: -48.48151767660189\n",
      "Cross Validation Scores Standard Deviation: 1.5652833777525033\n"
     ]
    }
   ],
   "source": [
    "linear_reg_model = LinearRegression().fit( X_train, y_train)\n",
    "\n",
    "y_pred = linear_reg_model.predict(X_test)\n",
    "y_train_pred = linear_reg_model.predict(X_train)\n",
    "print(\"Mean squared error of test data %f\"%(mean_squared_error(y_test,y_pred)))\n",
    "print(\"Mean squared error of train data %f\"%(mean_squared_error(y_train,y_train_pred)))\n",
    " \n",
    "cv = RepeatedKFold(n_splits=10, n_repeats=3, random_state=1) \n",
    "scores = cross_val_score(linear_reg_model, X_train, y_train, scoring='neg_mean_squared_error', cv=cv, n_jobs=-1)\n",
    "print('Cross Validation Scores Mean: {}'.format(np.array(scores).mean()))\n",
    "print('Cross Validation Scores Standard Deviation: {}'.format(np.array(scores).std()))"
   ]
  },
  {
   "cell_type": "code",
   "execution_count": 22,
   "metadata": {},
   "outputs": [
    {
     "data": {
      "image/png": "[encoded data removed]",
      "text/plain": [
       "<Figure size 432x288 with 1 Axes>"
      ]
     },
     "metadata": {
      "needs_background": "light"
     },
     "output_type": "display_data"
    }
   ],
   "source": [
    "mean_err=[]; std_err=[]\n",
    "degrees=[1,2,3]\n",
    "for d in degrees:\n",
    "    model = SVR(kernel=\"poly\", C=100, gamma=\"auto\", degree=d, epsilon=0.1, coef0=1) \n",
    "    model.fit(X_train, y_train)\n",
    "    ypred = model.predict(X_train)\n",
    "    mse = mean_squared_error(y_train, ypred)\n",
    "    mean_err.append(np.array(mse).mean())\n",
    "    std_err.append(np.array(mse).std())\n",
    "plt.errorbar( degrees,mean_err, yerr=std_err)\n",
    "plt.xlabel('Degrees') \n",
    "plt.ylabel('Mean Square Error')\n",
    "plt.show()"
   ]
  },
  {
   "cell_type": "code",
   "execution_count": 14,
   "metadata": {},
   "outputs": [
    {
     "name": "stdout",
     "output_type": "stream",
     "text": [
      "Mean squared error of test data 44.847694\n",
      "Mean squared error of train data 45.703120\n",
      "Cross Validation Scores Mean: -46.156496886592755\n",
      "Cross Validation Scores Standard Deviation: 1.6241885694691554\n"
     ]
    }
   ],
   "source": [
    "svr_poly = SVR(kernel=\"poly\", C=100, gamma=\"auto\", degree=3, epsilon=0.1, coef0=1)\n",
    "svr_poly.fit(X_train, y_train)\n",
    "y_pred = svr_poly.predict(X_test)\n",
    "y_train_pred = svr_poly.predict(X_train)\n",
    "print(\"Mean squared error of test data %f\"%(mean_squared_error(y_test,y_pred)))\n",
    "print(\"Mean squared error of train data %f\"%(mean_squared_error(y_train,y_train_pred)))\n",
    " \n",
    "cv = RepeatedKFold(n_splits=10, n_repeats=3, random_state=1) \n",
    "scores = cross_val_score(svr_poly, X_train, y_train, scoring='neg_mean_squared_error', cv=cv, n_jobs=-1)\n",
    "print('Cross Validation Scores Mean: {}'.format(np.array(scores).mean()))\n",
    "print('Cross Validation Scores Standard Deviation: {}'.format(np.array(scores).std()))"
   ]
  },
  {
   "cell_type": "code",
   "execution_count": 23,
   "metadata": {},
   "outputs": [
    {
     "data": {
      "image/png": "[encoded data removed]",
      "text/plain": [
       "<Figure size 432x288 with 1 Axes>"
      ]
     },
     "metadata": {
      "needs_background": "light"
     },
     "output_type": "display_data"
    }
   ],
   "source": [
    " \n",
    "\n",
    "mean_err=[]; std_err=[]\n",
    "max_depth=[10,15,17,20,25,27,30]\n",
    "for m in max_depth:\n",
    "    model = RandomForestRegressor(max_depth=m, random_state=0) \n",
    "    model.fit(X_train, y_train)\n",
    "    ypred = model.predict(X_train)\n",
    "    mse = mean_squared_error(y_train, ypred)\n",
    "    mean_err.append(np.array(mse).mean())\n",
    "    std_err.append(np.array(mse).std())\n",
    "plt.errorbar( max_depth,mean_err, yerr=std_err)\n",
    "plt.xlabel('Maximum Depth') \n",
    "plt.ylabel('Mean Square Error')\n",
    "plt.show()"
   ]
  },
  {
   "cell_type": "code",
   "execution_count": 15,
   "metadata": {},
   "outputs": [
    {
     "name": "stdout",
     "output_type": "stream",
     "text": [
      "Mean squared error of test data 23.410315\n",
      "Mean squared error of train data 2.970991\n",
      "Cross Validation Scores Mean: -21.256537574256278\n",
      "Cross Validation Scores Standard Deviation: 1.0099017597909086\n"
     ]
    }
   ],
   "source": [
    "\n",
    "regr = RandomForestRegressor(max_depth=27, random_state=0) \n",
    "regr.fit(X_train, y_train)\n",
    "y_pred = regr.predict(X_test)\n",
    "y_train_pred = regr.predict(X_train)\n",
    "print(\"Mean squared error of test data %f\"%(mean_squared_error(y_test,y_pred)))\n",
    "print(\"Mean squared error of train data %f\"%(mean_squared_error(y_train,y_train_pred)))\n",
    " \n",
    "cv = RepeatedKFold(n_splits=10, n_repeats=3, random_state=1) \n",
    "scores = cross_val_score(regr, X_train, y_train, scoring='neg_mean_squared_error', cv=cv, n_jobs=-1)\n",
    "print('Cross Validation Scores Mean: {}'.format(np.array(scores).mean()))\n",
    "print('Cross Validation Scores Standard Deviation: {}'.format(np.array(scores).std()))"
   ]
  },
  {
   "cell_type": "code",
   "execution_count": 25,
   "metadata": {},
   "outputs": [
    {
     "data": {
      "image/png": "[encoded data removed]",
      "text/plain": [
       "<Figure size 432x288 with 1 Axes>"
      ]
     },
     "metadata": {
      "needs_background": "light"
     },
     "output_type": "display_data"
    }
   ],
   "source": [
    "mean_err=[]; std_err=[]\n",
    "max_depth=[10,15,17,20,25,30,40]\n",
    "for m in max_depth:\n",
    "    model = XGBRegressor(max_depth=m)\n",
    "    model.fit(X_train, y_train)\n",
    "    ypred = model.predict(X_train)\n",
    "    mse = mean_squared_error(y_train, ypred)\n",
    "    mean_err.append(np.array(mse).mean())\n",
    "    std_err.append(np.array(mse).std())\n",
    "plt.errorbar( max_depth,mean_err, yerr=std_err)\n",
    "plt.xlabel('Maximum Depth') \n",
    "plt.ylabel('Mean Square Error')\n",
    "plt.show()"
   ]
  },
  {
   "cell_type": "code",
   "execution_count": 27,
   "metadata": {},
   "outputs": [
    {
     "name": "stdout",
     "output_type": "stream",
     "text": [
      "Mean squared error of test data 26.987652\n",
      "Mean squared error of train data 0.000870\n",
      "Cross Validation Scores Mean: -23.32308288401515\n",
      "Cross Validation Scores Standard Deviation: 1.2965445285615982\n"
     ]
    }
   ],
   "source": [
    "\n",
    "model = XGBRegressor(max_depth=15) #,booster='dart',n_estimators=100\n",
    "model.fit(X_train, y_train)\n",
    "y_pred = model.predict(X_test)\n",
    "y_train_pred = model.predict(X_train)\n",
    "print(\"Mean squared error of test data %f\"%(mean_squared_error(y_test,y_pred)))\n",
    "print(\"Mean squared error of train data %f\"%(mean_squared_error(y_train,y_train_pred)))\n",
    " \n",
    "cv = RepeatedKFold(n_splits=10, n_repeats=3, random_state=1) \n",
    "scores = cross_val_score(model, X_train, y_train, scoring='neg_mean_squared_error', cv=cv, n_jobs=-1)\n",
    "print('Cross Validation Scores Mean: {}'.format(np.array(scores).mean()))\n",
    "print('Cross Validation Scores Standard Deviation: {}'.format(np.array(scores).std()))\n",
    "\n"
   ]
  },
  {
   "cell_type": "code",
   "execution_count": null,
   "metadata": {},
   "outputs": [],
   "source": []
  }
 ],
 "metadata": {
  "interpreter": {
   "hash": "008bc697c598212373b4c2842fb188b41f4ab47c1b7a3f2daf98919a6a07599d"
  },
  "kernelspec": {
   "display_name": "Python 3",
   "language": "python",
   "name": "python3"
  },
  "language_info": {
   "codemirror_mode": {
    "name": "ipython",
    "version": 3
   },
   "file_extension": ".py",
   "mimetype": "text/x-python",
   "name": "python",
   "nbconvert_exporter": "python",
   "pygments_lexer": "ipython3",
   "version": "3.8.8"
  }
 },
 "nbformat": 4,
 "nbformat_minor": 2
}
